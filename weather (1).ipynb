{
  "nbformat": 4,
  "nbformat_minor": 0,
  "metadata": {
    "colab": {
      "provenance": []
    },
    "kernelspec": {
      "name": "python3",
      "display_name": "Python 3"
    },
    "language_info": {
      "name": "python"
    }
  },
  "cells": [
    {
      "cell_type": "code",
      "execution_count": 1,
      "metadata": {
        "colab": {
          "base_uri": "https://localhost:8080/"
        },
        "id": "5SebC2LnZ592",
        "outputId": "7e24b324-3ea2-4366-e106-3f4d4b64d60a"
      },
      "outputs": [
        {
          "output_type": "stream",
          "name": "stdout",
          "text": [
            "Collecting scikit-fuzzy\n",
            "  Downloading scikit_fuzzy-0.5.0-py2.py3-none-any.whl.metadata (2.6 kB)\n",
            "Requirement already satisfied: matplotlib in /usr/local/lib/python3.10/dist-packages (3.8.0)\n",
            "Requirement already satisfied: contourpy>=1.0.1 in /usr/local/lib/python3.10/dist-packages (from matplotlib) (1.3.1)\n",
            "Requirement already satisfied: cycler>=0.10 in /usr/local/lib/python3.10/dist-packages (from matplotlib) (0.12.1)\n",
            "Requirement already satisfied: fonttools>=4.22.0 in /usr/local/lib/python3.10/dist-packages (from matplotlib) (4.55.3)\n",
            "Requirement already satisfied: kiwisolver>=1.0.1 in /usr/local/lib/python3.10/dist-packages (from matplotlib) (1.4.7)\n",
            "Requirement already satisfied: numpy<2,>=1.21 in /usr/local/lib/python3.10/dist-packages (from matplotlib) (1.26.4)\n",
            "Requirement already satisfied: packaging>=20.0 in /usr/local/lib/python3.10/dist-packages (from matplotlib) (24.2)\n",
            "Requirement already satisfied: pillow>=6.2.0 in /usr/local/lib/python3.10/dist-packages (from matplotlib) (11.0.0)\n",
            "Requirement already satisfied: pyparsing>=2.3.1 in /usr/local/lib/python3.10/dist-packages (from matplotlib) (3.2.0)\n",
            "Requirement already satisfied: python-dateutil>=2.7 in /usr/local/lib/python3.10/dist-packages (from matplotlib) (2.8.2)\n",
            "Requirement already satisfied: six>=1.5 in /usr/local/lib/python3.10/dist-packages (from python-dateutil>=2.7->matplotlib) (1.17.0)\n",
            "Downloading scikit_fuzzy-0.5.0-py2.py3-none-any.whl (920 kB)\n",
            "\u001b[2K   \u001b[90m━━━━━━━━━━━━━━━━━━━━━━━━━━━━━━━━━━━━━━━━\u001b[0m \u001b[32m920.8/920.8 kB\u001b[0m \u001b[31m24.4 MB/s\u001b[0m eta \u001b[36m0:00:00\u001b[0m\n",
            "\u001b[?25hInstalling collected packages: scikit-fuzzy\n",
            "Successfully installed scikit-fuzzy-0.5.0\n"
          ]
        }
      ],
      "source": [
        "pip install scikit-fuzzy matplotlib"
      ]
    },
    {
      "cell_type": "code",
      "source": [
        "import numpy as np\n",
        "import skfuzzy as fuzz\n",
        "import skfuzzy.control as ctrl\n",
        "\n",
        "# Define fuzzy variables\n",
        "temperature = ctrl.Antecedent(np.arange(0, 46, 1), 'temperature')\n",
        "humidity = ctrl.Antecedent(np.arange(0, 101, 1), 'humidity')\n",
        "wind_speed = ctrl.Antecedent(np.arange(0, 51, 1), 'wind_speed')\n",
        "\n",
        "rain = ctrl.Consequent(np.arange(0, 101, 1), 'rain')\n",
        "storm = ctrl.Consequent(np.arange(0, 101, 1), 'storm')\n",
        "sunshine = ctrl.Consequent(np.arange(0, 101, 1), 'sunshine')\n",
        "\n",
        "# Membership functions for inputs\n",
        "temperature['low'] = fuzz.trapmf(temperature.universe, [0, 0, 10, 20])\n",
        "temperature['medium'] = fuzz.trimf(temperature.universe, [10, 25, 35])\n",
        "temperature['high'] = fuzz.trapmf(temperature.universe, [30, 40, 45, 45])\n",
        "\n",
        "humidity['low'] = fuzz.trapmf(humidity.universe, [0, 0, 30, 50])\n",
        "humidity['medium'] = fuzz.trimf(humidity.universe, [30, 60, 80])\n",
        "humidity['high'] = fuzz.trapmf(humidity.universe, [70, 90, 100, 100])\n",
        "\n",
        "wind_speed['low'] = fuzz.trapmf(wind_speed.universe, [0, 0, 10, 20])\n",
        "wind_speed['medium'] = fuzz.trimf(wind_speed.universe, [10, 25, 35])\n",
        "wind_speed['high'] = fuzz.trapmf(wind_speed.universe, [30, 40, 50, 50])\n",
        "\n",
        "# Membership functions for outputs\n",
        "rain['low'] = fuzz.trapmf(rain.universe, [0, 0, 25, 50])\n",
        "rain['medium'] = fuzz.trimf(rain.universe, [25, 50, 75])\n",
        "rain['high'] = fuzz.trapmf(rain.universe, [50, 75, 100, 100])\n",
        "\n",
        "storm['low'] = fuzz.trapmf(storm.universe, [0, 0, 15, 40])\n",
        "storm['medium'] = fuzz.trimf(storm.universe, [15, 50, 75])\n",
        "storm['high'] = fuzz.trapmf(storm.universe, [50, 75, 100, 100])\n",
        "\n",
        "sunshine['low'] = fuzz.trapmf(sunshine.universe, [0, 0, 25, 50])\n",
        "sunshine['medium'] = fuzz.trimf(sunshine.universe, [25, 50, 75])\n",
        "sunshine['high'] = fuzz.trapmf(sunshine.universe, [50, 75, 100, 100])\n",
        "\n",
        "# Define fuzzy rules\n",
        "rules = [\n",
        "    ctrl.Rule(humidity['high'] & wind_speed['low'], rain['high']),\n",
        "    ctrl.Rule(temperature['medium'] & humidity['medium'], rain['medium']),\n",
        "    ctrl.Rule(wind_speed['high'] & humidity['high'], storm['high']),\n",
        "    ctrl.Rule(humidity['medium'] & wind_speed['medium'], storm['medium']),\n",
        "    ctrl.Rule(temperature['high'] & humidity['low'], sunshine['high']),\n",
        "    ctrl.Rule(humidity['low'] & wind_speed['low'], sunshine['medium']),\n",
        "    ctrl.Rule(temperature['low'] & humidity['low'], rain['low']),\n",
        "    ctrl.Rule(temperature['high'] & wind_speed['medium'], sunshine['medium']),\n",
        "    ctrl.Rule(temperature['medium'] & wind_speed['low'], sunshine['medium']),\n",
        "]\n",
        "\n",
        "# Create control system\n",
        "weather_ctrl = ctrl.ControlSystem(rules)\n",
        "weather_simulation = ctrl.ControlSystemSimulation(weather_ctrl)\n",
        "\n",
        "# Main Program (Manual Input)\n",
        "print(\"Welcome to the AI-Driven Weather Prediction System!\")\n",
        "print(\"Please enter the weather data manually:\")\n",
        "\n",
        "try:\n",
        "    # Input values with validation\n",
        "    temperature_input = float(input(\"Enter Temperature (°C) [0-45]: \"))\n",
        "    humidity_input = float(input(\"Enter Humidity (%) [0-100]: \"))\n",
        "    wind_speed_input = float(input(\"Enter Wind Speed (km/h) [0-50]: \"))\n",
        "\n",
        "    if not (0 <= temperature_input <= 45):\n",
        "        raise ValueError(\"Temperature must be between 0 and 45°C.\")\n",
        "    if not (0 <= humidity_input <= 100):\n",
        "        raise ValueError(\"Humidity must be between 0 and 100%.\")\n",
        "    if not (0 <= wind_speed_input <= 50):\n",
        "        raise ValueError(\"Wind Speed must be between 0 and 50 km/h.\")\n",
        "\n",
        "    # Use manual data for fuzzy computation\n",
        "    weather_simulation.input['temperature'] = temperature_input\n",
        "    weather_simulation.input['humidity'] = humidity_input\n",
        "    weather_simulation.input['wind_speed'] = wind_speed_input\n",
        "\n",
        "    # Perform computation\n",
        "    weather_simulation.compute()\n",
        "\n",
        "    # Safely fetch results\n",
        "    rain_result = weather_simulation.output.get('rain', 0)\n",
        "    storm_result = weather_simulation.output.get('storm', 0)\n",
        "    sunshine_result = weather_simulation.output.get('sunshine', 0)\n",
        "\n",
        "    # Determine dominant weather condition\n",
        "    dominant_condition = max(rain_result, storm_result, sunshine_result)\n",
        "    if dominant_condition == rain_result:\n",
        "        weather = \"Rain\"\n",
        "    elif dominant_condition == storm_result:\n",
        "        weather = \"Storm\"\n",
        "    else:\n",
        "        weather = \"Sunshine\"\n",
        "\n",
        "    # Display results\n",
        "    print(\"\\nWeather Prediction Results:\")\n",
        "    print(f\"Rain Probability: {rain_result:.2f}%\")\n",
        "    print(f\"Storm Probability: {storm_result:.2f}%\")\n",
        "    print(f\"Sunshine Probability: {sunshine_result:.2f}%\")\n",
        "    print(f\"The predicted weather is: {weather}\")\n",
        "\n",
        "except ValueError as e:\n",
        "    print(f\"Input Error: {e}\")"
      ],
      "metadata": {
        "colab": {
          "base_uri": "https://localhost:8080/"
        },
        "id": "q0o4M2fWaWOj",
        "outputId": "4c61077d-564f-47be-a813-c059afaff5f9"
      },
      "execution_count": 2,
      "outputs": [
        {
          "output_type": "stream",
          "name": "stdout",
          "text": [
            "Welcome to the AI-Driven Weather Prediction System!\n",
            "Please enter the weather data manually:\n",
            "Enter Temperature (°C) [0-45]: 25\n",
            "Enter Humidity (%) [0-100]: 60\n",
            "Enter Wind Speed (km/h) [0-50]: 12\n",
            "\n",
            "Weather Prediction Results:\n",
            "Rain Probability: 50.00%\n",
            "Storm Probability: 45.33%\n",
            "Sunshine Probability: 50.00%\n",
            "The predicted weather is: Rain\n"
          ]
        }
      ]
    }
  ]
}